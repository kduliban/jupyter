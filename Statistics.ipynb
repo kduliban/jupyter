{
 "cells": [
  {
   "cell_type": "code",
   "execution_count": 6,
   "id": "1ab63741",
   "metadata": {},
   "outputs": [],
   "source": [
    "import pandas as pd\n",
    "import numpy as np\n",
    "import math as m"
   ]
  },
  {
   "cell_type": "code",
   "execution_count": 7,
   "id": "692958b4",
   "metadata": {},
   "outputs": [],
   "source": [
    "fert_rate = [1.3, 1.95, 2.466, 1.6, 2.952, 1.801, 1.34, 1.34, 1.63, 2.326, 2.436, 6.563, 1.283, 1.43, 1.988, 1.61, 1.921, 2.4, 1.495, 4.705]\n",
    "life_ex = [76.84878, 81.40732, 77.57895, 74.16341, 68.84907, 73.88595, 75.26829, 76.26098, 80.57244, 65.46259, 67.5482, 55.02451, 76.2799, 82.29024, 69.80695, 81.40112, 82.19756, 74.22683, 80.12888, 45.55095]\n",
    "ids = [x for x in range (1,21)]"
   ]
  },
  {
   "cell_type": "markdown",
   "id": "7ca603da",
   "metadata": {},
   "source": [
    "# Miary położenia i rozproszenia dla dzietności"
   ]
  },
  {
   "cell_type": "code",
   "execution_count": 8,
   "id": "3dd1ea98",
   "metadata": {
    "scrolled": false
   },
   "outputs": [
    {
     "name": "stdout",
     "output_type": "stream",
     "text": [
      "2.2268\n",
      "1.5820880600000002\n",
      "1.2578108204336613\n"
     ]
    }
   ],
   "source": [
    "mean_fr = sum(fert_rate)/len(fert_rate)\n",
    "v_fr = sum([(x - mean_fr)**2 for x in fert_rate])/len(fert_rate)\n",
    "st_dev_fr = m.sqrt(v_fr)\n",
    "print(mean_fr)\n",
    "print(v_fr)\n",
    "print(st_dev_fr)"
   ]
  },
  {
   "cell_type": "markdown",
   "id": "76ab19fa",
   "metadata": {},
   "source": [
    " # Miary położenia i rozproszenia dla średniej długości życia"
   ]
  },
  {
   "cell_type": "code",
   "execution_count": 9,
   "id": "92ef7e3c",
   "metadata": {},
   "outputs": [
    {
     "name": "stdout",
     "output_type": "stream",
     "text": [
      "73.237646\n",
      "83.78440677763399\n",
      "9.153382258904847\n"
     ]
    }
   ],
   "source": [
    "mean_le = sum(life_ex)/len(life_ex)\n",
    "v_le = sum([(x - mean_le)**2 for x in life_ex])/len(life_ex)\n",
    "st_dev_le = m.sqrt(v_le)\n",
    "print(mean_le)\n",
    "print(v_le)\n",
    "print(st_dev_le)"
   ]
  },
  {
   "cell_type": "markdown",
   "id": "b527e42c",
   "metadata": {},
   "source": [
    "# Kowariancja i korelacja"
   ]
  },
  {
   "cell_type": "code",
   "execution_count": 10,
   "id": "92f444a8",
   "metadata": {},
   "outputs": [
    {
     "name": "stdout",
     "output_type": "stream",
     "text": [
      "-9.446519224299976\n",
      "-0.8204930122649553\n"
     ]
    }
   ],
   "source": [
    "by_countries = list(zip(fert_rate, life_ex))\n",
    "products = [x[0]*x[1] for x in by_countries]\n",
    "product_exp = mean_le * mean_fr\n",
    "product_mean = sum(products)/len(products)\n",
    "covariance = product_mean - product_exp\n",
    "print(covariance)\n",
    "correlation = covariance/(st_dev_le*st_dev_fr)\n",
    "print(correlation)"
   ]
  },
  {
   "cell_type": "markdown",
   "id": "ffa2e955",
   "metadata": {},
   "source": [
    " - zachodzi bardzo wysoka korelcja ujemna\n",
    " - nie potrafię ocenić, czy korelacja jest przypadkowa - trudno wnioskować na podstawie danych z 20 krajów, z jednego roku, bez zróżnicowania na płeć. Znaczenie może mieć stan opieki zdrowotnej w danym, jakość edukacji czy poziom zamożności danego państwa, a zatem czynniki nieuwzglęnione w danych.  \n"
   ]
  },
  {
   "cell_type": "markdown",
   "id": "75ab9216",
   "metadata": {},
   "source": [
    "# Średnia oczekiwana długość życia dla całej populacji"
   ]
  },
  {
   "cell_type": "code",
   "execution_count": 12,
   "id": "f596eb18",
   "metadata": {},
   "outputs": [
    {
     "data": {
      "text/plain": [
       "[69.25377784856727, 77.22151415143273]"
      ]
     },
     "execution_count": 12,
     "metadata": {},
     "output_type": "execute_result"
    }
   ],
   "source": [
    "std_dev = 9.09\n",
    "prz_ufn = 0.95\n",
    "n = 20\n",
    "#sprawdzone w tablicy\n",
    "wart = 1.96\n",
    "estimated_population_mean = [mean_le - wart*(std_dev/m.sqrt(n)), mean_le + wart*(std_dev/m.sqrt(n))]\n",
    "estimated_population_mean"
   ]
  },
  {
   "cell_type": "markdown",
   "id": "67655f6c",
   "metadata": {},
   "source": [
    "# to samo w pandas"
   ]
  },
  {
   "cell_type": "code",
   "execution_count": 15,
   "id": "ddabdbc2",
   "metadata": {},
   "outputs": [
    {
     "data": {
      "text/html": [
       "<div>\n",
       "<style scoped>\n",
       "    .dataframe tbody tr th:only-of-type {\n",
       "        vertical-align: middle;\n",
       "    }\n",
       "\n",
       "    .dataframe tbody tr th {\n",
       "        vertical-align: top;\n",
       "    }\n",
       "\n",
       "    .dataframe thead th {\n",
       "        text-align: right;\n",
       "    }\n",
       "</style>\n",
       "<table border=\"1\" class=\"dataframe\">\n",
       "  <thead>\n",
       "    <tr style=\"text-align: right;\">\n",
       "      <th></th>\n",
       "      <th>fertility</th>\n",
       "      <th>life expectancy</th>\n",
       "    </tr>\n",
       "  </thead>\n",
       "  <tbody>\n",
       "    <tr>\n",
       "      <th>0</th>\n",
       "      <td>1.300</td>\n",
       "      <td>76.84878</td>\n",
       "    </tr>\n",
       "    <tr>\n",
       "      <th>1</th>\n",
       "      <td>1.950</td>\n",
       "      <td>81.40732</td>\n",
       "    </tr>\n",
       "    <tr>\n",
       "      <th>2</th>\n",
       "      <td>2.466</td>\n",
       "      <td>77.57895</td>\n",
       "    </tr>\n",
       "    <tr>\n",
       "      <th>3</th>\n",
       "      <td>1.600</td>\n",
       "      <td>74.16341</td>\n",
       "    </tr>\n",
       "    <tr>\n",
       "      <th>4</th>\n",
       "      <td>2.952</td>\n",
       "      <td>68.84907</td>\n",
       "    </tr>\n",
       "    <tr>\n",
       "      <th>5</th>\n",
       "      <td>1.801</td>\n",
       "      <td>73.88595</td>\n",
       "    </tr>\n",
       "    <tr>\n",
       "      <th>6</th>\n",
       "      <td>1.340</td>\n",
       "      <td>75.26829</td>\n",
       "    </tr>\n",
       "    <tr>\n",
       "      <th>7</th>\n",
       "      <td>1.340</td>\n",
       "      <td>76.26098</td>\n",
       "    </tr>\n",
       "    <tr>\n",
       "      <th>8</th>\n",
       "      <td>1.630</td>\n",
       "      <td>80.57244</td>\n",
       "    </tr>\n",
       "    <tr>\n",
       "      <th>9</th>\n",
       "      <td>2.326</td>\n",
       "      <td>65.46259</td>\n",
       "    </tr>\n",
       "    <tr>\n",
       "      <th>10</th>\n",
       "      <td>2.436</td>\n",
       "      <td>67.54820</td>\n",
       "    </tr>\n",
       "    <tr>\n",
       "      <th>11</th>\n",
       "      <td>6.563</td>\n",
       "      <td>55.02451</td>\n",
       "    </tr>\n",
       "    <tr>\n",
       "      <th>12</th>\n",
       "      <td>1.283</td>\n",
       "      <td>76.27990</td>\n",
       "    </tr>\n",
       "    <tr>\n",
       "      <th>13</th>\n",
       "      <td>1.430</td>\n",
       "      <td>82.29024</td>\n",
       "    </tr>\n",
       "    <tr>\n",
       "      <th>14</th>\n",
       "      <td>1.988</td>\n",
       "      <td>69.80695</td>\n",
       "    </tr>\n",
       "    <tr>\n",
       "      <th>15</th>\n",
       "      <td>1.610</td>\n",
       "      <td>81.40112</td>\n",
       "    </tr>\n",
       "    <tr>\n",
       "      <th>16</th>\n",
       "      <td>1.921</td>\n",
       "      <td>82.19756</td>\n",
       "    </tr>\n",
       "    <tr>\n",
       "      <th>17</th>\n",
       "      <td>2.400</td>\n",
       "      <td>74.22683</td>\n",
       "    </tr>\n",
       "    <tr>\n",
       "      <th>18</th>\n",
       "      <td>1.495</td>\n",
       "      <td>80.12888</td>\n",
       "    </tr>\n",
       "    <tr>\n",
       "      <th>19</th>\n",
       "      <td>4.705</td>\n",
       "      <td>45.55095</td>\n",
       "    </tr>\n",
       "  </tbody>\n",
       "</table>\n",
       "</div>"
      ],
      "text/plain": [
       "    fertility  life expectancy\n",
       "0       1.300         76.84878\n",
       "1       1.950         81.40732\n",
       "2       2.466         77.57895\n",
       "3       1.600         74.16341\n",
       "4       2.952         68.84907\n",
       "5       1.801         73.88595\n",
       "6       1.340         75.26829\n",
       "7       1.340         76.26098\n",
       "8       1.630         80.57244\n",
       "9       2.326         65.46259\n",
       "10      2.436         67.54820\n",
       "11      6.563         55.02451\n",
       "12      1.283         76.27990\n",
       "13      1.430         82.29024\n",
       "14      1.988         69.80695\n",
       "15      1.610         81.40112\n",
       "16      1.921         82.19756\n",
       "17      2.400         74.22683\n",
       "18      1.495         80.12888\n",
       "19      4.705         45.55095"
      ]
     },
     "execution_count": 15,
     "metadata": {},
     "output_type": "execute_result"
    }
   ],
   "source": [
    "df = pd.DataFrame(by_countries, columns = ['fertility', 'life expectancy'])\n",
    "df"
   ]
  },
  {
   "cell_type": "code",
   "execution_count": 16,
   "id": "25bf94c5",
   "metadata": {},
   "outputs": [
    {
     "data": {
      "text/html": [
       "<div>\n",
       "<style scoped>\n",
       "    .dataframe tbody tr th:only-of-type {\n",
       "        vertical-align: middle;\n",
       "    }\n",
       "\n",
       "    .dataframe tbody tr th {\n",
       "        vertical-align: top;\n",
       "    }\n",
       "\n",
       "    .dataframe thead th {\n",
       "        text-align: right;\n",
       "    }\n",
       "</style>\n",
       "<table border=\"1\" class=\"dataframe\">\n",
       "  <thead>\n",
       "    <tr style=\"text-align: right;\">\n",
       "      <th></th>\n",
       "      <th>fertility</th>\n",
       "      <th>life expectancy</th>\n",
       "    </tr>\n",
       "  </thead>\n",
       "  <tbody>\n",
       "    <tr>\n",
       "      <th>fertility</th>\n",
       "      <td>1.000000</td>\n",
       "      <td>-0.820493</td>\n",
       "    </tr>\n",
       "    <tr>\n",
       "      <th>life expectancy</th>\n",
       "      <td>-0.820493</td>\n",
       "      <td>1.000000</td>\n",
       "    </tr>\n",
       "  </tbody>\n",
       "</table>\n",
       "</div>"
      ],
      "text/plain": [
       "                 fertility  life expectancy\n",
       "fertility         1.000000        -0.820493\n",
       "life expectancy  -0.820493         1.000000"
      ]
     },
     "execution_count": 16,
     "metadata": {},
     "output_type": "execute_result"
    }
   ],
   "source": [
    "df.corr(method ='pearson')"
   ]
  }
 ],
 "metadata": {
  "kernelspec": {
   "display_name": "Python 3 (ipykernel)",
   "language": "python",
   "name": "python3"
  },
  "language_info": {
   "codemirror_mode": {
    "name": "ipython",
    "version": 3
   },
   "file_extension": ".py",
   "mimetype": "text/x-python",
   "name": "python",
   "nbconvert_exporter": "python",
   "pygments_lexer": "ipython3",
   "version": "3.10.5"
  }
 },
 "nbformat": 4,
 "nbformat_minor": 5
}
